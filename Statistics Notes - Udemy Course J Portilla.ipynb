{
 "cells": [
  {
   "cell_type": "markdown",
   "metadata": {},
   "source": [
    "## Stats Notes"
   ]
  },
  {
   "cell_type": "code",
   "execution_count": 1,
   "metadata": {
    "collapsed": false
   },
   "outputs": [],
   "source": [
    "import numpy as np\n",
    "from numpy.random import randn\n",
    "import pandas as pd\n",
    "from scipy import stats\n",
    "import matplotlib as mpl\n",
    "import matplotlib.pyplot as plt\n",
    "import seaborn as sns\n",
    "from __future__ import division\n",
    "%matplotlib inline"
   ]
  },
  {
   "cell_type": "markdown",
   "metadata": {},
   "source": [
    "### Discrete Uniform Distributions"
   ]
  },
  {
   "cell_type": "code",
   "execution_count": 2,
   "metadata": {
    "collapsed": false
   },
   "outputs": [
    {
     "data": {
      "text/plain": [
       "<matplotlib.text.Text at 0xae673c8>"
      ]
     },
     "execution_count": 2,
     "metadata": {},
     "output_type": "execute_result"
    },
    {
     "data": {
      "image/png": "[encoded data removed]",
      "text/plain": [
       "<matplotlib.figure.Figure at 0xadb60f0>"
      ]
     },
     "metadata": {},
     "output_type": "display_data"
    }
   ],
   "source": [
    "roll_options = [1,2,3,4,5,6]\n",
    "\n",
    "tprob = 1\n",
    "\n",
    "prob_roll = tprob / len(roll_options)\n",
    "\n",
    "uni_plot = sns.rugplot(roll_options,height=prob_roll,c='indianred')\n",
    "\n",
    "uni_plot.set_title('Probability Mass Function for Dice Roll')"
   ]
  },
  {
   "cell_type": "code",
   "execution_count": 3,
   "metadata": {
    "collapsed": false
   },
   "outputs": [
    {
     "name": "stdout",
     "output_type": "stream",
     "text": [
      "The mean is 3.5\n",
      "The variance is 2.9\n"
     ]
    }
   ],
   "source": [
    "from scipy.stats import randint\n",
    "\n",
    "low,high = 1,7\n",
    "\n",
    "mean,var = randint.stats(low,high)\n",
    "\n",
    "print('The mean is %2.1f' %mean)\n",
    "print('The variance is %2.1f' %var)"
   ]
  },
  {
   "cell_type": "code",
   "execution_count": 4,
   "metadata": {
    "collapsed": false
   },
   "outputs": [
    {
     "data": {
      "text/plain": [
       "<Container object of 6 artists>"
      ]
     },
     "execution_count": 4,
     "metadata": {},
     "output_type": "execute_result"
    },
    {
     "data": {
      "image/png": "[encoded data removed]",
      "text/plain": [
       "<matplotlib.figure.Figure at 0x3c6d7f0>"
      ]
     },
     "metadata": {},
     "output_type": "display_data"
    }
   ],
   "source": [
    "plt.bar(roll_options,randint.pmf(roll_options,low,high))"
   ]
  },
  {
   "cell_type": "markdown",
   "metadata": {},
   "source": [
    "### Continuous Uniform Distributions"
   ]
  },
  {
   "cell_type": "code",
   "execution_count": 5,
   "metadata": {
    "collapsed": false
   },
   "outputs": [
    {
     "name": "stdout",
     "output_type": "stream",
     "text": [
      "The probability density function results in 0.12\n",
      "The variance of the continous uniform distribution is 5.3\n"
     ]
    }
   ],
   "source": [
    "low, high = 19,27\n",
    "fx = 1/(high-low)\n",
    "print('The probability density function results in %1.2f' %fx)\n",
    "var = ((high-low)**2)/12\n",
    "print('The variance of the continous uniform distribution is %1.1f' %var)"
   ]
  },
  {
   "cell_type": "code",
   "execution_count": 6,
   "metadata": {
    "collapsed": false
   },
   "outputs": [
    {
     "name": "stdout",
     "output_type": "stream",
     "text": [
      "The probability that the taxi ride will last at least 25 minutes is 25.0%\n"
     ]
    }
   ],
   "source": [
    "fx_1 = 27.0/(high-low)\n",
    "fx_2 = 25.0/(high-low)\n",
    "ans = fx_1 - fx_2\n",
    "print('The probability that the taxi ride will last at least 25 minutes is %2.1f%%' %(100*ans))"
   ]
  },
  {
   "cell_type": "code",
   "execution_count": 7,
   "metadata": {
    "collapsed": false
   },
   "outputs": [
    {
     "data": {
      "text/plain": [
       "[<matplotlib.lines.Line2D at 0xc108cf8>]"
      ]
     },
     "execution_count": 7,
     "metadata": {},
     "output_type": "execute_result"
    },
    {
     "data": {
      "image/png": "[encoded data removed]",
      "text/plain": [
       "<matplotlib.figure.Figure at 0xbefd160>"
      ]
     },
     "metadata": {},
     "output_type": "display_data"
    }
   ],
   "source": [
    "from scipy.stats import uniform\n",
    "\n",
    "A,B = 0,5\n",
    "\n",
    "x = np.linspace(A,B,100)\n",
    "\n",
    "rv = uniform(loc=A,scale=B)\n",
    "\n",
    "plt.plot(x,rv.pdf(x))"
   ]
  },
  {
   "cell_type": "markdown",
   "metadata": {},
   "source": [
    "### Binomial Distribution"
   ]
  },
  {
   "cell_type": "code",
   "execution_count": 8,
   "metadata": {
    "collapsed": false
   },
   "outputs": [
    {
     "name": "stdout",
     "output_type": "stream",
     "text": [
      "The probability of player A making 6 shots in an average game is 11.1%\n",
      "The probability of player B making 6 shots in an average game is 17.0%\n"
     ]
    }
   ],
   "source": [
    "p_A = .72\n",
    "n_A = 11\n",
    "k = 6\n",
    "\n",
    "import scipy.misc as sc\n",
    "\n",
    "comb_A = sc.comb(n_A,k)\n",
    "\n",
    "answer_A = comb_A * (p_A**k) * ((1-p_A)**(n_A-k))\n",
    "\n",
    "answer_A = 100*answer_A\n",
    "\n",
    "p_B = .48\n",
    "n_B = 15\n",
    "\n",
    "comb_B = sc.comb(n_B,k)\n",
    "\n",
    "answer_B = comb_B * (p_B**k) * ((1-p_B)**(n_B-k))\n",
    "\n",
    "answer_B = 100*answer_B\n",
    "\n",
    "print('The probability of player A making 6 shots in an average game is %1.1f%%' %answer_A)\n",
    "print('The probability of player B making 6 shots in an average game is %1.1f%%' %answer_B)"
   ]
  },
  {
   "cell_type": "code",
   "execution_count": 9,
   "metadata": {
    "collapsed": false
   },
   "outputs": [
    {
     "name": "stdout",
     "output_type": "stream",
     "text": [
      "The probability of player A making 9 shots in an average game is 22.4%\n",
      "The probability of player B making 9 shots in an average game is 13.4%\n"
     ]
    }
   ],
   "source": [
    "k = 9\n",
    "\n",
    "comb_A = sc.comb(n_A,k)\n",
    "comb_B = sc.comb(n_B,k)\n",
    "answer_A = 100 * comb_A * (p_A**k) * ((1-p_A)**(n_A-k))\n",
    "answer_B = 100 * comb_B * (p_B**k) * ((1-p_B)**(n_B-k))\n",
    "print('The probability of player A making 9 shots in an average game is %1.1f%%' %answer_A)\n",
    "print('The probability of player B making 9 shots in an average game is %1.1f%%' %answer_B)"
   ]
  },
  {
   "cell_type": "code",
   "execution_count": 10,
   "metadata": {
    "collapsed": false
   },
   "outputs": [
    {
     "name": "stdout",
     "output_type": "stream",
     "text": [
      "Player A will make an average of 8 +/- 1 shots per game\n",
      "Player B will make an average of 7 +/- 2 shots per game\n"
     ]
    }
   ],
   "source": [
    "mu_A = n_A * p_A\n",
    "mu_B = n_B * p_B\n",
    "sigma_A = (n_A * p_A * (1-p_A)) ** 0.5\n",
    "sigma_B = (n_B * p_B * (1-p_B)) ** 0.5\n",
    "\n",
    "print('Player A will make an average of %1.0f +/- %1.0f shots per game' %(mu_A,sigma_A))\n",
    "print('Player B will make an average of %1.0f +/- %1.0f shots per game' %(mu_B,sigma_B))"
   ]
  },
  {
   "cell_type": "code",
   "execution_count": 11,
   "metadata": {
    "collapsed": false
   },
   "outputs": [
    {
     "name": "stdout",
     "output_type": "stream",
     "text": [
      "7.92\n",
      "1.48916083752\n"
     ]
    }
   ],
   "source": [
    "from scipy.stats import binom\n",
    "\n",
    "mean,var = binom.stats(n_A,p_A)\n",
    "\n",
    "print mean\n",
    "print var**0.5"
   ]
  },
  {
   "cell_type": "code",
   "execution_count": 12,
   "metadata": {
    "collapsed": false
   },
   "outputs": [
    {
     "data": {
      "text/plain": [
       "array([ 0.00097656,  0.00976563,  0.04394531,  0.1171875 ,  0.20507813,\n",
       "        0.24609375,  0.20507813,  0.1171875 ,  0.04394531,  0.00976563,\n",
       "        0.00097656])"
      ]
     },
     "execution_count": 12,
     "metadata": {},
     "output_type": "execute_result"
    }
   ],
   "source": [
    "n=10\n",
    "p=0.5\n",
    "\n",
    "x = range(n+1)\n",
    "\n",
    "Y = binom.pmf(x,n,p)\n",
    "\n",
    "Y"
   ]
  },
  {
   "cell_type": "code",
   "execution_count": 13,
   "metadata": {
    "collapsed": false
   },
   "outputs": [
    {
     "data": {
      "text/plain": [
       "<matplotlib.text.Text at 0xc1f4a58>"
      ]
     },
     "execution_count": 13,
     "metadata": {},
     "output_type": "execute_result"
    },
    {
     "data": {
      "image/png": "[encoded data removed]",
      "text/plain": [
       "<matplotlib.figure.Figure at 0xbf08470>"
      ]
     },
     "metadata": {},
     "output_type": "display_data"
    }
   ],
   "source": [
    "plt.plot(x,Y,'o')\n",
    "plt.title('binomial Distribution PMF: 10 coin Flips, Odds of Success for Heads is p=0.5')\n",
    "plt.xlabel('Number of Heads')\n",
    "plt.ylabel('Probability')"
   ]
  },
  {
   "cell_type": "markdown",
   "metadata": {},
   "source": [
    "### Poisson Distribution"
   ]
  },
  {
   "cell_type": "code",
   "execution_count": 15,
   "metadata": {
    "collapsed": false
   },
   "outputs": [
    {
     "name": "stdout",
     "output_type": "stream",
     "text": [
      "There is a 9.01 % chance that exactly 7 customers show up at the lunch rush.\n"
     ]
    }
   ],
   "source": [
    "lamb = 10\n",
    "k = 7\n",
    "\n",
    "from math import exp\n",
    "from math import factorial\n",
    "\n",
    "prob = (lamb**k)*exp(-lamb)/factorial(k)\n",
    "\n",
    "print('There is a %2.2f %% chance that exactly 7 customers show up at the lunch rush.' %(100*prob))"
   ]
  },
  {
   "cell_type": "code",
   "execution_count": 16,
   "metadata": {
    "collapsed": false
   },
   "outputs": [
    {
     "name": "stdout",
     "output_type": "stream",
     "text": [
      "There is a 9.01 % chance that exactly 7 customers show up at the lunch rush\n",
      "The mean is 10.00 and variance is 10.00\n"
     ]
    }
   ],
   "source": [
    "from scipy.stats import poisson\n",
    "mu = 10\n",
    "\n",
    "mean,var = poisson.stats(mu)\n",
    "\n",
    "odds_seven = poisson.pmf(7,mu)\n",
    "\n",
    "print('There is a %2.2f %% chance that exactly 7 customers show up at the lunch rush' %(100*odds_seven))\n",
    "\n",
    "print('The mean is %2.2f and variance is %2.2f' %(mean,var))"
   ]
  },
  {
   "cell_type": "code",
   "execution_count": 19,
   "metadata": {
    "collapsed": false
   },
   "outputs": [
    {
     "data": {
      "text/plain": [
       "<Container object of 30 artists>"
      ]
     },
     "execution_count": 19,
     "metadata": {},
     "output_type": "execute_result"
    },
    {
     "data": {
      "image/png": "[encoded data removed]",
      "text/plain": [
       "<matplotlib.figure.Figure at 0xdbf3898>"
      ]
     },
     "metadata": {},
     "output_type": "display_data"
    }
   ],
   "source": [
    "k=np.arange(30)\n",
    "lamb = 10\n",
    "\n",
    "pmf_pois = poisson.pmf(k,lamb)\n",
    "\n",
    "plt.bar(k,pmf_pois)"
   ]
  },
  {
   "cell_type": "code",
   "execution_count": 21,
   "metadata": {
    "collapsed": false
   },
   "outputs": [
    {
     "name": "stdout",
     "output_type": "stream",
     "text": [
      "The probability that 10 or less customers showup is 58.3 %.\n"
     ]
    }
   ],
   "source": [
    "k,mu = 10,10\n",
    "\n",
    "prob_up_to_ten = poisson.cdf(k,mu)\n",
    "\n",
    "print('The probability that 10 or less customers showup is %2.1f %%.' %(100*prob_up_to_ten))"
   ]
  },
  {
   "cell_type": "code",
   "execution_count": 22,
   "metadata": {
    "collapsed": false
   },
   "outputs": [
    {
     "name": "stdout",
     "output_type": "stream",
     "text": [
      "The probability that more than ten customers show up during lunch rush is 41.7 %.\n"
     ]
    }
   ],
   "source": [
    "prob_more_than_ten = 1 - prob_up_to_ten\n",
    "\n",
    "print('The probability that more than ten customers show up during lunch rush is %2.1f %%.' %(100*prob_more_than_ten))"
   ]
  },
  {
   "cell_type": "markdown",
   "metadata": {},
   "source": [
    "### Normal Distribution"
   ]
  },
  {
   "cell_type": "code",
   "execution_count": 29,
   "metadata": {
    "collapsed": false
   },
   "outputs": [
    {
     "data": {
      "text/plain": [
       "[<matplotlib.lines.Line2D at 0xe788438>]"
      ]
     },
     "execution_count": 29,
     "metadata": {},
     "output_type": "execute_result"
    },
    {
     "data": {
      "image/png": "[encoded data removed]",
      "text/plain": [
       "<matplotlib.figure.Figure at 0xe0a1e10>"
      ]
     },
     "metadata": {},
     "output_type": "display_data"
    }
   ],
   "source": [
    "mean = 0\n",
    "\n",
    "std = 1\n",
    "\n",
    "X = np.arange(-4,4,0.01)\n",
    "\n",
    "Y = stats.norm.pdf(X,mean,std)\n",
    "\n",
    "plt.plot(X,Y)"
   ]
  },
  {
   "cell_type": "code",
   "execution_count": 30,
   "metadata": {
    "collapsed": true
   },
   "outputs": [],
   "source": [
    "mu,sigma = 0,0.1\n",
    "norm_set = np.random.normal(mu,sigma,1000)"
   ]
  },
  {
   "cell_type": "code",
   "execution_count": 31,
   "metadata": {
    "collapsed": false
   },
   "outputs": [
    {
     "data": {
      "text/plain": [
       "(array([  1.,   1.,   0.,   1.,   2.,   0.,   2.,   0.,   1.,   3.,   6.,\n",
       "          6.,   6.,  15.,  11.,  16.,  14.,  25.,  28.,  36.,  30.,  52.,\n",
       "         35.,  55.,  57.,  72.,  53.,  49.,  46.,  35.,  58.,  45.,  42.,\n",
       "         40.,  29.,  32.,  25.,  17.,   8.,  13.,   6.,   8.,   4.,   6.,\n",
       "          1.,   2.,   2.,   1.,   2.,   1.]),\n",
       " array([-0.36351631, -0.349837  , -0.33615769, -0.32247838, -0.30879908,\n",
       "        -0.29511977, -0.28144046, -0.26776116, -0.25408185, -0.24040254,\n",
       "        -0.22672323, -0.21304393, -0.19936462, -0.18568531, -0.17200601,\n",
       "        -0.1583267 , -0.14464739, -0.13096808, -0.11728878, -0.10360947,\n",
       "        -0.08993016, -0.07625085, -0.06257155, -0.04889224, -0.03521293,\n",
       "        -0.02153363, -0.00785432,  0.00582499,  0.0195043 ,  0.0331836 ,\n",
       "         0.04686291,  0.06054222,  0.07422152,  0.08790083,  0.10158014,\n",
       "         0.11525945,  0.12893875,  0.14261806,  0.15629737,  0.16997668,\n",
       "         0.18365598,  0.19733529,  0.2110146 ,  0.2246939 ,  0.23837321,\n",
       "         0.25205252,  0.26573183,  0.27941113,  0.29309044,  0.30676975,\n",
       "         0.32044905]),\n",
       " <a list of 50 Patch objects>)"
      ]
     },
     "execution_count": 31,
     "metadata": {},
     "output_type": "execute_result"
    },
    {
     "data": {
      "image/png": "[encoded data removed]",
      "text/plain": [
       "<matplotlib.figure.Figure at 0xe6e6cf8>"
      ]
     },
     "metadata": {},
     "output_type": "display_data"
    }
   ],
   "source": [
    "plt.hist(norm_set,bins=50)"
   ]
  },
  {
   "cell_type": "markdown",
   "metadata": {},
   "source": [
    "### T Distribution"
   ]
  },
  {
   "cell_type": "code",
   "execution_count": 47,
   "metadata": {
    "collapsed": false
   },
   "outputs": [
    {
     "data": {
      "text/plain": [
       "<matplotlib.legend.Legend at 0x11156ac8>"
      ]
     },
     "execution_count": 47,
     "metadata": {},
     "output_type": "execute_result"
    },
    {
     "data": {
      "image/png": "[encoded data removed]",
      "text/plain": [
       "<matplotlib.figure.Figure at 0x10f65208>"
      ]
     },
     "metadata": {},
     "output_type": "display_data"
    }
   ],
   "source": [
    "x = np.arange(-4,4,0.01)\n",
    "\n",
    "rv = stats.t(1)\n",
    "nm = stats.norm.pdf(x,0,1)\n",
    "\n",
    "plt.plot(x,rv.pdf(x),c='r',label='Student T')\n",
    "plt.plot(x,nm,c='b',label='Normal')\n",
    "plt.legend()"
   ]
  },
  {
   "cell_type": "markdown",
   "metadata": {},
   "source": [
    "### Hypothesis Testing"
   ]
  },
  {
   "cell_type": "code",
   "execution_count": null,
   "metadata": {
    "collapsed": true
   },
   "outputs": [],
   "source": []
  }
 ],
 "metadata": {
  "anaconda-cloud": {},
  "kernelspec": {
   "display_name": "Python [Root]",
   "language": "python",
   "name": "Python [Root]"
  },
  "language_info": {
   "codemirror_mode": {
    "name": "ipython",
    "version": 2
   },
   "file_extension": ".py",
   "mimetype": "text/x-python",
   "name": "python",
   "nbconvert_exporter": "python",
   "pygments_lexer": "ipython2",
   "version": "2.7.12"
  }
 },
 "nbformat": 4,
 "nbformat_minor": 0
}
